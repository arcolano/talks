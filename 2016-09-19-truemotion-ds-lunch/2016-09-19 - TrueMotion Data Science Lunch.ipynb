{
 "cells": [
  {
   "cell_type": "code",
   "execution_count": 1,
   "metadata": {
    "collapsed": true,
    "nbpresent": {
     "id": "15242557-48bb-4917-86ad-95c9786a4da6"
    },
    "slideshow": {
     "slide_type": "skip"
    }
   },
   "outputs": [],
   "source": [
    "import numpy as np\n",
    "import pandas as pd\n",
    "from scipy import stats\n",
    "\n",
    "import matplotlib.pyplot as plt\n",
    "%matplotlib inline"
   ]
  },
  {
   "cell_type": "markdown",
   "metadata": {
    "nbpresent": {
     "id": "23625e0b-17b1-4b5d-9dda-68837861cbfa"
    },
    "slideshow": {
     "slide_type": "slide"
    }
   },
   "source": [
    "<div>\n",
    "<img src=\"images/truemotion-logo.png\" width=\"100%\">\n",
    "</div>\n",
    "<br/>\n",
    "<br/>\n",
    "<div align=\"right\">\n",
    "<h2>Data Science Lunch Seminar:<br/>\n",
    "    A/B Testing Theory and Practice</h2>\n",
    "<h3>Nicholas Arcolano<br/>\n",
    "    19 September 2016\n",
    "</h3>\n",
    "</div>"
   ]
  },
  {
   "cell_type": "markdown",
   "metadata": {
    "nbpresent": {
     "id": "9c98f43d-d376-4e67-a6ef-c8f5c29cffac"
    },
    "slideshow": {
     "slide_type": "slide"
    }
   },
   "source": [
    "# What is an A/B test?\n",
    "* Consider a random experiment with binary outcome\n",
    "    * Coin flip, disease recovery, purchasing a product (\"conversion\")\n",
    "* Assume there is some true \"baseline\" probability of a positive outcome\n",
    "* We change something that (we think) will alter this baseline\n",
    "* **How do we know if it actually did?**"
   ]
  },
  {
   "cell_type": "markdown",
   "metadata": {
    "slideshow": {
     "slide_type": "fragment"
    }
   },
   "source": [
    "* **Experiment!**\n",
    "    * The original version is the **control** a.k.a. \"variant A\"\n",
    "    * The new version is the **test** a.k.a. \"variant B\""
   ]
  },
  {
   "cell_type": "markdown",
   "metadata": {
    "slideshow": {
     "slide_type": "fragment"
    }
   },
   "source": [
    "* **If A and B are \"different enough\", we decide our intervention had an effect—otherwise, we decide that it didn't**"
   ]
  },
  {
   "cell_type": "markdown",
   "metadata": {
    "nbpresent": {
     "id": "4c9cb5c7-9c65-497c-b29a-3db9e808a4a3"
    },
    "slideshow": {
     "slide_type": "slide"
    }
   },
   "source": [
    "# A \"simple\" example\n",
    "* Consider two coins, with *unknown* probabilites of heads $p_1$ and $p_2$, and assume one of the following two hypotheses is true:\n",
    "    * $H_0$ (null hypothesis): $p_1 = p_2$\n",
    "    * $H_1$ (alternate hypothesis): $p_1 < p_2$\n",
    "* How do we decide which is true?  \n",
    "* Experiment!\n",
    "    * Flip them both and see how different their outcomes are\n",
    "    * Given $n$ flips of each coin, we will observe some number $m_1$ heads for coin #1 and $m_2$ heads for coin #2"
   ]
  },
  {
   "cell_type": "markdown",
   "metadata": {
    "slideshow": {
     "slide_type": "slide"
    }
   },
   "source": [
    "* If we knew both distributions, we could just do the optimal thing prescribed by classical binary hypothesis testing—but this would require knowing $p_1$ and $p_2$\n",
    "* Instead, we need some other **statistical test** that will take $n$, $m_1$, and $m_2$ and give us a number we can threshold to make a decision"
   ]
  },
  {
   "cell_type": "markdown",
   "metadata": {
    "slideshow": {
     "slide_type": "slide"
    }
   },
   "source": [
    "# A review of statistical tests, errors, and power\n",
    "\n",
    "* Basic approach to statistical testing:\n",
    "    * Determine a **test statistic**: random variable that depends on $n$, $m_1$, and $m_2$\n",
    "    * Want a statistic whose distribution **given the null hypothesis** is computable (exactly or approximately)\n",
    "    * If the data we observe puts us in the tails of the distribution, we say that $H_0$ is too unlikely and **\"reject the null hypothesis\"** (choose $H_1$)\n",
    "    * $p$-value: tail probability of the sampling distribution given the null hypothesis is true ($p$-value too small, reject the null)"
   ]
  },
  {
   "cell_type": "markdown",
   "metadata": {
    "slideshow": {
     "slide_type": "slide"
    }
   },
   "source": [
    "* Often summarize the data as a 2 x 2 **contingency table**\n",
    "<table witdth=\"100%\">\n",
    "<tr><td width=\"15%\"></td> <td width=\"35%\">Heads</td> <td width=\"35%\">Tails</td> <td width=\"15%\">Row totals</td></tr>\n",
    "<tr><td>Coin #1</td> <td>$m_1$</td> <td>$n - m_1$</td> <td>$n$</td></tr>\n",
    "<tr><td>Coin #2</td> <td>$m_2$</td> <td>$n - m_2$</td> <td>$n$</td></tr>\n",
    "<tr><td>Column totals</td> <td>$m_1 + m_2$</td> <td>$2n - m_1 - m_2$</td> <td>$2n$</td></tr>\n",
    "</table>\n",
    "<br/>\n",
    "\n",
    "* Statistical test takes this table and produces a $p$-value, which we then threshold (e.g. $p < 0.05$)"
   ]
  },
  {
   "cell_type": "markdown",
   "metadata": {
    "slideshow": {
     "slide_type": "slide"
    }
   },
   "source": [
    "## Types of errors\n",
    "\n",
    "* Four potential outcomes of the test:\n",
    "    * $H_1$ is true, choose $H_1$: **true positive** (correct detection)\n",
    "    * $H_0$ is true, choose $H_0$: **true negative** \n",
    "    * $H_0$ is true, choose $H_1$: **false positive** (Type I error)\n",
    "    * $H_1$ is true, choose $H_0$: **false negative** (Type II error)"
   ]
  },
  {
   "cell_type": "markdown",
   "metadata": {
    "slideshow": {
     "slide_type": "slide"
    }
   },
   "source": [
    "## Power and false positive rate\n",
    "* Denote the probabilies of false positives and false negatives as $\\alpha$ and $\\beta$\n",
    "* Since $p$-value represents the tail probability under the null, rejecting $p < \\alpha$ corresponds to false positive rate of $\\alpha$ (for a one-sided test)\n",
    "* Refer to probability of correct detection $$\\Pr\\,(\\text{choose}\\ H_1\\,|\\,H_1\\ \\text{true}) = 1 - \\beta$$ as the **power** of the test "
   ]
  },
  {
   "cell_type": "markdown",
   "metadata": {
    "slideshow": {
     "slide_type": "slide"
    }
   },
   "source": [
    "## Relationship to precision and recall\n",
    "\n",
    "* Assume we do this test a large number of times, so that observed rates of success/failure represent true probabilities \n",
    "* Counts for each possible outcome $TP$, $TN$, $FP$, $FN$"
   ]
  },
  {
   "cell_type": "markdown",
   "metadata": {
    "slideshow": {
     "slide_type": "fragment"
    }
   },
   "source": [
    "* False alarm rate: $\\alpha = \\frac{FP}{FP + TN}$\n",
    "* Recall (correct detection rate): $R = 1 - \\beta = \\frac{TP}{TP + FN}$\n",
    "* Precision: $P = \\frac{TP}{TP + FP}$"
   ]
  },
  {
   "cell_type": "markdown",
   "metadata": {
    "slideshow": {
     "slide_type": "slide"
    }
   },
   "source": [
    "* We also have a **prior probability** for $H_1$\n",
    "$$\\pi = \\frac{TP + FN}{TP + FN + TN + FP}$$\n",
    "\n",
    "* Traditional hypothesis testing doesn't really take this into account\n",
    "\n",
    "* The relationship between $\\alpha$, $\\beta$, precision and prior is given by\n",
    "$$\\alpha\\,\\frac{P}{1 - P} = (1-\\beta)\\,\\frac{\\pi}{1 - \\pi}$$\n",
    "\n",
    "* So, for a test with fixed power and false positive rate, **precision will scale with the prior probability of** $H_1$"
   ]
  },
  {
   "cell_type": "markdown",
   "metadata": {
    "slideshow": {
     "slide_type": "slide"
    }
   },
   "source": [
    "# Examples of tests"
   ]
  },
  {
   "cell_type": "markdown",
   "metadata": {
    "slideshow": {
     "slide_type": "fragment"
    }
   },
   "source": [
    "## Fisher's exact test\n",
    "\n",
    "* Observe that under the null, the row and column totals follow a **hypergeometric distribution**\n",
    "* Reject the null if the differences between the row and column totals produces a $p$-value less than the given threshold\n",
    "* \"Exact test\": doesn't need to hold only when $n$ is large\n",
    "* Typically used when sample sizes are \"small\"\n",
    "* Since distribution can only take on discrete values, can be conservative"
   ]
  },
  {
   "cell_type": "markdown",
   "metadata": {
    "slideshow": {
     "slide_type": "slide"
    }
   },
   "source": [
    "## Pearson's chi-squared test\n",
    "* Compare the observed frequencies of success $m_1/n$ and $m_2/n$\n",
    "* If $H_0$ is true, then the variance of $m_1/n - m_2/n$ is\n",
    "$$\\sigma^2 = \\frac{2\\hat{\\pi}(1 - \\hat{\\pi})}{n}$$\n",
    "where \n",
    "$$\\hat{\\pi} = \\frac{m_1 + m_2}{2n}$$\n",
    "* The test statistic\n",
    "$$z^2 = \\frac{\\left(m_1/n - m_2/n\\right)^2}{\\sigma^2}$$\n",
    "under the null converges to a $\\chi^2$ distribution\n",
    "* Compute the chi-square tail probability of the test statistic, reject the null if it exceeds the threshold"
   ]
  },
  {
   "cell_type": "markdown",
   "metadata": {
    "slideshow": {
     "slide_type": "slide"
    }
   },
   "source": [
    "# Back to our example\n",
    "\n",
    "* Recall: \n",
    "    * $H_0$ (null hypothesis): $p_1 = p_2$\n",
    "    * $H_1$ (alternate hypothesis): $p_1 < p_2$ \n",
    "* Assume we get to flip each coin $n = 100$ times, and let's look at some examples for each hypothesis"
   ]
  },
  {
   "cell_type": "markdown",
   "metadata": {
    "slideshow": {
     "slide_type": "slide"
    }
   },
   "source": [
    "# Case #1: Alternate hypothesis is true"
   ]
  },
  {
   "cell_type": "code",
   "execution_count": 2,
   "metadata": {
    "collapsed": true,
    "slideshow": {
     "slide_type": "skip"
    }
   },
   "outputs": [],
   "source": [
    "def plot(x, pmf1, pmf2):\n",
    "    plt.figure(figsize=(16, 4))\n",
    "    plt.plot(x, pmf1, 'ro:', alpha=0.5, label='Coin 1')\n",
    "    plt.plot(x, pmf2, 'bo:', alpha=0.5, label='Coin 2')\n",
    "    plt.xlabel('Number of heads')\n",
    "    plt.ylabel('Probability')\n",
    "    plt.legend()\n",
    "    plt.show()"
   ]
  },
  {
   "cell_type": "code",
   "execution_count": 3,
   "metadata": {
    "collapsed": false
   },
   "outputs": [
    {
     "data": {
      "image/png": "[encoded data removed]",
      "text/plain": [
       "<matplotlib.figure.Figure at 0x115ec9790>"
      ]
     },
     "metadata": {},
     "output_type": "display_data"
    }
   ],
   "source": [
    "n = 100\n",
    "p1 = 0.40\n",
    "p2 = 0.60\n",
    "\n",
    "# Compute distributions\n",
    "x = np.arange(0, n+1)\n",
    "pmf1 = stats.binom.pmf(x, n, p1)\n",
    "pmf2 = stats.binom.pmf(x, n, p2)\n",
    "plot(x, pmf1, pmf2)"
   ]
  },
  {
   "cell_type": "code",
   "execution_count": 4,
   "metadata": {
    "collapsed": false,
    "slideshow": {
     "slide_type": "slide"
    }
   },
   "outputs": [
    {
     "name": "stdout",
     "output_type": "stream",
     "text": [
      "0.00720957076474 (reject H0)\n"
     ]
    }
   ],
   "source": [
    "# Example outcomes\n",
    "m1, m2 = 40, 60\n",
    "table = [[m1, n-m1], [m2, n-m2]]\n",
    "chi2, pval, dof, expected = stats.chi2_contingency(table)\n",
    "decision = 'reject H0' if pval < 0.05 else 'accept H0'\n",
    "print('{} ({})'.format(pval, decision))"
   ]
  },
  {
   "cell_type": "code",
   "execution_count": 5,
   "metadata": {
    "collapsed": false,
    "slideshow": {
     "slide_type": "fragment"
    }
   },
   "outputs": [
    {
     "name": "stdout",
     "output_type": "stream",
     "text": [
      "0.0659920550593 (accept H0)\n"
     ]
    }
   ],
   "source": [
    "m1, m2 = 43, 57\n",
    "table = [[m1, n-m1], [m2, n-m2]]\n",
    "chi2, pval, dof, expected = stats.chi2_contingency(table)\n",
    "decision = 'reject H0' if pval < 0.05 else 'accept H0'\n",
    "print('{} ({})'.format(pval, decision))"
   ]
  },
  {
   "cell_type": "markdown",
   "metadata": {
    "slideshow": {
     "slide_type": "slide"
    }
   },
   "source": [
    "# Case #2: Null hypothesis true"
   ]
  },
  {
   "cell_type": "code",
   "execution_count": 6,
   "metadata": {
    "collapsed": false
   },
   "outputs": [
    {
     "data": {
      "image/png": "[encoded data removed]",
      "text/plain": [
       "<matplotlib.figure.Figure at 0x1061d6fd0>"
      ]
     },
     "metadata": {},
     "output_type": "display_data"
    }
   ],
   "source": [
    "n = 100\n",
    "p1 = 0.50\n",
    "p2 = 0.50\n",
    "\n",
    "# Compute distributions\n",
    "x = np.arange(0, n+1)\n",
    "pmf1 = stats.binom.pmf(x, n, p1)\n",
    "pmf2 = stats.binom.pmf(x, n, p2)\n",
    "plot(x, pmf1, pmf2)"
   ]
  },
  {
   "cell_type": "code",
   "execution_count": 7,
   "metadata": {
    "collapsed": false,
    "slideshow": {
     "slide_type": "slide"
    }
   },
   "outputs": [
    {
     "name": "stdout",
     "output_type": "stream",
     "text": [
      "0.887537083982 (accept H0)\n"
     ]
    }
   ],
   "source": [
    "# Example outcomes\n",
    "m1, m2 = 49, 51\n",
    "table = [[m1, n-m1], [m2, n-m2]]\n",
    "chi2, pval, dof, expected = stats.chi2_contingency(table)\n",
    "decision = 'reject H0' if pval < 0.05 else 'accept H0'\n",
    "print('{} ({})'.format(pval, decision))"
   ]
  },
  {
   "cell_type": "code",
   "execution_count": 8,
   "metadata": {
    "collapsed": false,
    "slideshow": {
     "slide_type": "fragment"
    }
   },
   "outputs": [
    {
     "name": "stdout",
     "output_type": "stream",
     "text": [
      "0.0338948535247 (reject H0)\n"
     ]
    }
   ],
   "source": [
    "# Example outcomes\n",
    "m1, m2 = 42, 58\n",
    "table = [[m1, n-m1], [m2, n-m2]]\n",
    "chi2, pval, dof, expected = stats.chi2_contingency(table)\n",
    "decision = 'reject H0' if pval < 0.05 else 'accept H0'\n",
    "print('{} ({})'.format(pval, decision))"
   ]
  },
  {
   "cell_type": "markdown",
   "metadata": {
    "slideshow": {
     "slide_type": "slide"
    }
   },
   "source": [
    "# Sample size calculation\n",
    "\n",
    "* Often what we really want to know is: **how many flips to we need to reach a certain level of confidence that we are really observing a difference?**"
   ]
  },
  {
   "cell_type": "markdown",
   "metadata": {
    "slideshow": {
     "slide_type": "slide"
    }
   },
   "source": [
    "## Factors affecting required sample size\n",
    "* **Baseline probability** $p_1$: how often does anything interesting happen?\n",
    "* **Minimum observable difference** that we want to be able to detect between $p_2$ and $p_1$\n",
    "* Desired **power** of the test: if there is a real difference, how likely do we want to be to observe it?\n",
    "* Desired **false positive rate** of the test\n",
    "\n",
    "So in practice, if we have a good guess at $p_1$ and the minimum $p_2$ that we can accept detecting, we can estimate a minimum $n$"
   ]
  },
  {
   "cell_type": "markdown",
   "metadata": {
    "slideshow": {
     "slide_type": "slide"
    }
   },
   "source": [
    "## Casagrande et al (1978)\n",
    "\n",
    "Approximate formula gives the desired sample size $n$ as a function of $p_1$, $p_2$, $\\alpha$, and $\\beta$:\n",
    "$$n = A \\left[\\frac{1 + \\sqrt{1 + \\frac{4(p_1 - p_2)}{A}}}{2(p_1 - p_2)}\\right]^2$$\n",
    "where $A$ is a $\\chi^2$ \"correction factor\" given by  \n",
    "$$A = \\left[z_{1-\\alpha} \\sqrt{2\\bar{p}(1 - \\bar{p})} + z_{1 - \\beta} \\sqrt{p_1 (1-p_1) + p_2 (1-p_2)} \\right]^2,$$\n",
    "with $\\bar{p} = (p_1+p_2)/2$ and where $z_p$ denotes the standard normal quantile function, i.e. $z_p = \\Phi^{-1}(p)$ is location of the $p$-th quantile for $N(0, 1)$\n",
    "\n"
   ]
  },
  {
   "cell_type": "markdown",
   "metadata": {
    "slideshow": {
     "slide_type": "slide"
    }
   },
   "source": [
    "## Example"
   ]
  },
  {
   "cell_type": "code",
   "execution_count": 9,
   "metadata": {
    "collapsed": false
   },
   "outputs": [
    {
     "name": "stdout",
     "output_type": "stream",
     "text": [
      "149.285261921\n"
     ]
    }
   ],
   "source": [
    "p1, p2 = 0.40, 0.60\n",
    "alpha = 0.05\n",
    "beta = 0.05\n",
    "\n",
    "# Evaluate quantile functions\n",
    "p_bar = (p1 + p2)/2.0\n",
    "za = stats.norm.ppf(1 - alpha/2)  # Two-sided test\n",
    "zb = stats.norm.ppf(1 - beta)\n",
    "\n",
    "# Compute correction factor\n",
    "A = (za*np.sqrt(2*p_bar*(1-p_bar)) + zb*np.sqrt(p1*(1-p1) + p2*(1-p2)))**2\n",
    "\n",
    "# Estimate samples required\n",
    "n = A*(((1 + np.sqrt(1 + 4*(p1-p2)/A))) / (2*(p1-p2)))**2\n",
    "\n",
    "print n"
   ]
  },
  {
   "cell_type": "markdown",
   "metadata": {
    "slideshow": {
     "slide_type": "slide"
    }
   },
   "source": [
    "# A more practical (and scarier) example\n",
    "\n",
    "* Assume we have 5.00% conversion on something we care about (e.g. click-through on a purchase page)\n",
    "* We introduce a feature that we think will change conversions by 3% (i.e. from 5.00% to 5.15%)\n",
    "* We want 95% power and 5% false positive rate"
   ]
  },
  {
   "cell_type": "code",
   "execution_count": 10,
   "metadata": {
    "collapsed": false,
    "slideshow": {
     "slide_type": "slide"
    }
   },
   "outputs": [
    {
     "name": "stdout",
     "output_type": "stream",
     "text": [
      "555118.763831\n"
     ]
    }
   ],
   "source": [
    "p1, p2 = 0.0500, 0.0515\n",
    "alpha = 0.05\n",
    "beta = 0.05\n",
    "\n",
    "# Evaluate quantile functions\n",
    "p_bar = (p1 + p2)/2.0\n",
    "za = stats.norm.ppf(1 - alpha/2)  # Two-sided test\n",
    "zb = stats.norm.ppf(1 - beta)\n",
    "\n",
    "# Compute correction factor\n",
    "A = (za*np.sqrt(2*p_bar*(1-p_bar)) + zb*np.sqrt(p1*(1-p1) + p2*(1-p2)))**2\n",
    "\n",
    "# Estimate samples required\n",
    "n = A*(((1 + np.sqrt(1 + 4*(p1-p2)/A))) / (2*(p1-p2)))**2\n",
    "\n",
    "print n"
   ]
  },
  {
   "cell_type": "markdown",
   "metadata": {},
   "source": [
    "So, for test and control combined we'll need at least $2n = $ **1.1 million users**. "
   ]
  },
  {
   "cell_type": "markdown",
   "metadata": {
    "slideshow": {
     "slide_type": "slide"
    }
   },
   "source": [
    "### Also, let's verify that this calculation even works..."
   ]
  },
  {
   "cell_type": "code",
   "execution_count": 11,
   "metadata": {
    "collapsed": false
   },
   "outputs": [
    {
     "name": "stdout",
     "output_type": "stream",
     "text": [
      "Theoretical false alarm rate = 0.0500, empirical false alarm rate = 0.0482\n",
      "Theoretical power = 0.9500, empirical power = 0.9466\n"
     ]
    }
   ],
   "source": [
    "n = 555119\n",
    "n_trials = 10000\n",
    "\n",
    "# Simulate experimental results when null is true\n",
    "control0 = stats.binom.rvs(n, p1, size=n_trials)\n",
    "test0 = stats.binom.rvs(n, p1, size=n_trials)  # Test and control are the same\n",
    "tables0 = [[[a, n-a], [b, n-b]] for a, b in zip(control0, test0)]\n",
    "results0 = [stats.chi2_contingency(T) for T in tables0]\n",
    "decisions0 = [x[1] <= alpha for x in results0]\n",
    "         \n",
    "# Simulate Experimental results when alternate is true\n",
    "control1 = stats.binom.rvs(n, p1, size=n_trials)\n",
    "test1 = stats.binom.rvs(n, p2, size=n_trials)  # Test and control are different\n",
    "tables1 = [[[a, n-a], [b, n-b]] for a, b in zip(control1, test1)]\n",
    "results1 = [stats.chi2_contingency(T) for T in tables1]\n",
    "decisions1 = [x[1] <= alpha for x in results1]\n",
    "\n",
    "# Compute false alarm and correct detection rates\n",
    "alpha_est = sum(decisions0)/float(n_trials)\n",
    "power_est = sum(decisions1)/float(n_trials)\n",
    "\n",
    "print('Theoretical false alarm rate = {:0.4f}, '.format(alpha) + \n",
    "      'empirical false alarm rate = {:0.4f}'.format(alpha_est))\n",
    "print('Theoretical power = {:0.4f}, '.format(1 - beta) + \n",
    "      'empirical power = {:0.4f}'.format(power_est))"
   ]
  },
  {
   "cell_type": "markdown",
   "metadata": {
    "slideshow": {
     "slide_type": "slide"
    }
   },
   "source": [
    "# What if _n_ is too big?\n",
    "\n",
    "The main things influencing $n$ are\n",
    "* How extreme $p_1$ is—very rare successes make it hard to reach significance\n",
    "* The difference between $p_1$ and $p_2$—small differences are much harder to measure\n",
    "\n",
    "What can we do if $n$ is too big to handle?\n",
    "* Typically we won't mess with $\\alpha$ and $\\beta$ too much\n",
    "* So, our only options are to adjust what we expect to get for $p_1$ and $p_2$ (i.e. change our minimum measurable effect)\n",
    "* Or, we can try to increase $p_1$ by measuring something that is more common (e.g. clicks instead of purchases)"
   ]
  },
  {
   "cell_type": "markdown",
   "metadata": {
    "slideshow": {
     "slide_type": "slide"
    }
   },
   "source": [
    "# Practical issues with A/B testing\n",
    "* Sometimes it's hard to target the right group (e.g. email tests)\n",
    "* It's easy to screw them up\n",
    "    * Unexpected variations between control and test\n",
    "    * Contamination between tests (test crossover)\n",
    "    * Randomization issues (e.g. individuals vs groups)\n",
    "* People (especially those outside of data science) are tempted to abuse them\n",
    "    * Multiple testing\n",
    "    * Searching for false positives"
   ]
  },
  {
   "cell_type": "markdown",
   "metadata": {
    "collapsed": true,
    "slideshow": {
     "slide_type": "slide"
    }
   },
   "source": [
    "* Issue of prior probabilities\n",
    "    * Can we know if a test is a \"sure thing\" or not?\n",
    "    * If we did, then should we even be testing it?\n",
    "    \n",
    "* Overall, you can spend a lot of time and effort, especially if you want to measure small changes in rare phenomena"
   ]
  },
  {
   "cell_type": "markdown",
   "metadata": {
    "collapsed": true,
    "slideshow": {
     "slide_type": "slide"
    }
   },
   "source": [
    "# Some alternatives to traditional A/B testing\n",
    "\n",
    "### Multi-armed bandit theory\n",
    "* Approaches for simultaneous exploration and exploitation\n",
    "* Given a set of random experiments I could perform, how do I choose among them (in order and quantity)?\n",
    "* Appropriate when you want to \"earn while you learn\"\n",
    "* Good for quickly exploiting short windows of opportunity\n"
   ]
  },
  {
   "cell_type": "markdown",
   "metadata": {
    "slideshow": {
     "slide_type": "fragment"
    }
   },
   "source": [
    "![](images/multi-armed-bandit.png)"
   ]
  },
  {
   "cell_type": "markdown",
   "metadata": {
    "collapsed": true,
    "slideshow": {
     "slide_type": "slide"
    }
   },
   "source": [
    "### Sequential testing\n",
    "* In traditional testing (\"fixed horizon\"), we can't keep looking at the data as it comes in and then quit when we're successful, because we will inflate our false positive rate \n",
    "* Benjamin and Hochberg (1995) – approach to controlling false discovery rate for sequential measurements\n",
    "* Likelihood ratio test that converges to the \"true\" false discovery rate over time\n",
    "* This is what the [Optimizely](https://www.optimizely.com/) stats engine is built on"
   ]
  },
  {
   "cell_type": "markdown",
   "metadata": {
    "slideshow": {
     "slide_type": "slide"
    }
   },
   "source": [
    "### Not actually testing\n",
    "* We don't always need to A/B test\n",
    "    * Testing requires engineering and data science resources\n",
    "    * Potential upside (e.g. in terms of saved future effort or mitigation of risk) has to outweight the cost of developing, performing, and analyzing the test"
   ]
  }
 ],
 "metadata": {
  "celltoolbar": "Slideshow",
  "kernelspec": {
   "display_name": "Python 2",
   "language": "python",
   "name": "python2"
  },
  "language_info": {
   "codemirror_mode": {
    "name": "ipython",
    "version": 2
   },
   "file_extension": ".py",
   "mimetype": "text/x-python",
   "name": "python",
   "nbconvert_exporter": "python",
   "pygments_lexer": "ipython2",
   "version": "2.7.11"
  }
 },
 "nbformat": 4,
 "nbformat_minor": 0
}
